{
  "nbformat": 4,
  "nbformat_minor": 0,
  "metadata": {
    "colab": {
      "name": "Regression Evaluation Metrics(Assignment)",
      "provenance": [],
      "collapsed_sections": [],
      "authorship_tag": "ABX9TyOQJbV9Ni+ePfWgGVmy96tz",
      "include_colab_link": true
    },
    "kernelspec": {
      "name": "python3",
      "display_name": "Python 3"
    },
    "language_info": {
      "name": "python"
    }
  },
  "cells": [
    {
      "cell_type": "markdown",
      "metadata": {
        "id": "view-in-github",
        "colab_type": "text"
      },
      "source": [
        "<a href=\"https://colab.research.google.com/github/priya606/Assignment/blob/main/Regression_Evaluation_Metrics(Assignment).ipynb\" target=\"_parent\"><img src=\"https://colab.research.google.com/assets/colab-badge.svg\" alt=\"Open In Colab\"/></a>"
      ]
    },
    {
      "cell_type": "markdown",
      "source": [
        "## Explain all regression evaluation metrics"
      ],
      "metadata": {
        "id": "7MKRV3EzYisV"
      }
    },
    {
      "cell_type": "markdown",
      "source": [
        "### Mean Absolute Error\n",
        "\n",
        "\n",
        "1.   MSE is mainly used for determining how accurate the model is?It is also used for handling the error like,\n",
        "         Prediction Error= Actual value - Predicted value\n",
        "and later on we will convert the prediction error into positive by using absolute error\n",
        "\n",
        "         Absolute Error=|Prediction Error|\n",
        "\n",
        "\n",
        "2.    Finally we calculate Absolute Error to calculate the average(Mean) of all predicted values\n",
        "\n",
        "          \n",
        "          MAE=Average of all  absolute error"
      ],
      "metadata": {
        "id": "w8aJ7vA5Ytli"
      }
    },
    {
      "cell_type": "markdown",
      "source": [
        "![alt text](https://drive.google.com/uc?id=1KVORRDBMHMwoTxiCTglvVj6YQnV-DODg)"
      ],
      "metadata": {
        "id": "NRzt_DsZSZdS"
      }
    },
    {
      "cell_type": "markdown",
      "source": [
        "# Mean Squared Error"
      ],
      "metadata": {
        "id": "TZYNA4uscs2H"
      }
    },
    {
      "cell_type": "markdown",
      "source": [
        "1.Mean Square Error (MSE) is defined as Mean or Average of the square of the difference between actual and predicted values. \n",
        "\n",
        "2.MSE is used to check how close estimates or predicted values are to actual values. Lower the MSE, the closer is predicted to actual. This is used as a model evaluation measure for regression models and the lower value indicates a better fit.\n",
        "\n",
        "3.Their is no perfect value for MSE lower the value perfect the prediction it mainly occurs large amount of errors when it cotains larger data\n",
        "\n",
        "\n"
      ],
      "metadata": {
        "id": "w59lz53ncw8N"
      }
    },
    {
      "cell_type": "markdown",
      "source": [
        "![alt text](https://drive.google.com/uc?id=1S4nC-XqubZqwPGdGcsaIKuNnb1rB_-gm)"
      ],
      "metadata": {
        "id": "aWzx0-5ejbTg"
      }
    },
    {
      "cell_type": "markdown",
      "source": [
        "#Mean Root Square Error"
      ],
      "metadata": {
        "id": "iWhnzDUXj_bN"
      }
    },
    {
      "cell_type": "markdown",
      "source": [
        "1.It is defined as square root of the mean of the differences between actual value and predicted value\n",
        "\n",
        "2.Squaring each error forces the values to be positive, and the square root of the mean squared error returns the error metric back to the original units for comparison.\n",
        "\n",
        "3.RMSE values are always slightly higher than MSE values.This is a benefit of using RMSE over MSE in that it penalizes larger errors with worse scores."
      ],
      "metadata": {
        "id": "6WtCrSLakDua"
      }
    },
    {
      "cell_type": "markdown",
      "source": [
        "![alt text](https://drive.google.com/uc?id=1MKe57vAYKqFySdMDQuV3sOYQ2g2IZ9uk)"
      ],
      "metadata": {
        "id": "wvhF72-iJUwM"
      }
    },
    {
      "cell_type": "markdown",
      "source": [
        "#R-Squared Score"
      ],
      "metadata": {
        "id": "Nxelrj37K8L_"
      }
    },
    {
      "cell_type": "markdown",
      "source": [
        "1.It is used to evaluate the performance of a regression model.It is also known as coefficient of determination\n",
        "\n",
        "2.If the value of the R2 is 1, it means that the model is perfect and if its value is 0, it means that the model will perform badly on an unseen dataset.\n",
        "\n",
        "3.The R-squared is calculated by dividing sum of squares of residuals from the regression model (given by SSres) by total sum of squares of errors from the average model (given by SStot) and then subtract it from 1."
      ],
      "metadata": {
        "id": "k6rMl-pqLJYT"
      }
    },
    {
      "cell_type": "markdown",
      "source": [
        "![alt text](https://drive.google.com/uc?id=18pf-MVWq-CgI94kwqlQj47yJVF5MLxjV)"
      ],
      "metadata": {
        "id": "1sEFE0RkVjgL"
      }
    },
    {
      "cell_type": "markdown",
      "source": [
        "# Explain Why Mean squared error is taken as cost function in regression problems."
      ],
      "metadata": {
        "id": "wYILeiS-Xe7v"
      }
    },
    {
      "cell_type": "markdown",
      "source": [
        "1.The line with minimum cost function or MSE represents the relationship between X and Y in the best possible manner. And once we have the slope and intercept of the line which gives the least error, we can use that line to predict Y.\n",
        "\n",
        "2.The purpose of MSE Cost Function is to minimize the error as much as possible in the given  dataset\n",
        "\n",
        "     The steps involved are:\n",
        "     1.The regressor will take the difference of y and y-hat for every point in the dataset and square it.\n",
        "     2.The model will take the sum of all these squared differences and divide them by m, the number of data points.\n",
        "     3.We divide this by 2 for mathematical convenience when finding the partial derivative of the cost function(this final value is our cost)"
      ],
      "metadata": {
        "id": "tjz5oMdRY4NA"
      }
    },
    {
      "cell_type": "markdown",
      "source": [
        ""
      ],
      "metadata": {
        "id": "t3E3L_FOdJdq"
      }
    }
  ]
}